{
 "cells": [
  {
   "attachments": {},
   "cell_type": "markdown",
   "metadata": {},
   "source": [
    "# Python test\n",
    "by Grigory Sharkov"
   ]
  },
  {
   "attachments": {},
   "cell_type": "markdown",
   "metadata": {},
   "source": [
    "# 1. Write a Pandas program to create and display a DataFrame from a specified dictionary data which has the index labels.\n",
    "Sample Python dictionary data and list labels\n",
    "```yml\n",
    "exam_data: \n",
    "    'name': ['Anastasia', 'Dima', 'Katherine', 'James', 'Emily', 'Michael', 'Matthew', 'Laura', 'Kevin', 'Jonas'],\n",
    "    'score': [12.5, 9, 16.5, np.nan, 9, 20, 14.5, np.nan, 8, 19],\n",
    "    'attempts': [1, 3, 2, 3, 2, 3, 1, 1, 2, 1],\n",
    "    'qualify': ['yes', 'no', 'yes', 'no', 'no', 'yes', 'yes', 'no', 'no', 'yes']\n",
    "labels: ['a', 'b', 'c', 'd', 'e', 'f', 'g', 'h', 'i', 'j']\n",
    "\n",
    "```\n",
    "Expected Output:\n",
    "\n",
    "| | attempts | name | qualify | score |\n",
    "| --- | --- | --- | --- | --- |\n",
    "| a | 1 | Anastasia | yes | 12.5 |\n",
    "| b | 3 | Dima | no | 9.0 |\n",
    "| ... | ... | ... | ... | ... |\n",
    "| i | 2 | Kevin | no | 8.0 |\n",
    "| j | 1 | Jonas | yes | 19.0 |\n"
   ]
  },
  {
   "cell_type": "code",
   "execution_count": 1,
   "metadata": {},
   "outputs": [],
   "source": [
    "import pandas as pd\n",
    "import numpy as np"
   ]
  },
  {
   "cell_type": "code",
   "execution_count": 26,
   "metadata": {},
   "outputs": [
    {
     "data": {
      "text/html": [
       "<div>\n",
       "<style scoped>\n",
       "    .dataframe tbody tr th:only-of-type {\n",
       "        vertical-align: middle;\n",
       "    }\n",
       "\n",
       "    .dataframe tbody tr th {\n",
       "        vertical-align: top;\n",
       "    }\n",
       "\n",
       "    .dataframe thead th {\n",
       "        text-align: right;\n",
       "    }\n",
       "</style>\n",
       "<table border=\"1\" class=\"dataframe\">\n",
       "  <thead>\n",
       "    <tr style=\"text-align: right;\">\n",
       "      <th></th>\n",
       "      <th>attempts</th>\n",
       "      <th>name</th>\n",
       "      <th>qualify</th>\n",
       "      <th>score</th>\n",
       "    </tr>\n",
       "  </thead>\n",
       "  <tbody>\n",
       "    <tr>\n",
       "      <th>a</th>\n",
       "      <td>1</td>\n",
       "      <td>Anastasia</td>\n",
       "      <td>yes</td>\n",
       "      <td>12.5</td>\n",
       "    </tr>\n",
       "    <tr>\n",
       "      <th>b</th>\n",
       "      <td>3</td>\n",
       "      <td>Dima</td>\n",
       "      <td>no</td>\n",
       "      <td>9.0</td>\n",
       "    </tr>\n",
       "    <tr>\n",
       "      <th>...</th>\n",
       "      <td>...</td>\n",
       "      <td>...</td>\n",
       "      <td>...</td>\n",
       "      <td>...</td>\n",
       "    </tr>\n",
       "    <tr>\n",
       "      <th>i</th>\n",
       "      <td>2</td>\n",
       "      <td>Kevin</td>\n",
       "      <td>no</td>\n",
       "      <td>8.0</td>\n",
       "    </tr>\n",
       "    <tr>\n",
       "      <th>j</th>\n",
       "      <td>1</td>\n",
       "      <td>Jonas</td>\n",
       "      <td>yes</td>\n",
       "      <td>19.0</td>\n",
       "    </tr>\n",
       "  </tbody>\n",
       "</table>\n",
       "<p>10 rows × 4 columns</p>\n",
       "</div>"
      ],
      "text/plain": [
       "    attempts       name qualify  score\n",
       "a          1  Anastasia     yes   12.5\n",
       "b          3       Dima      no    9.0\n",
       "..       ...        ...     ...    ...\n",
       "i          2      Kevin      no    8.0\n",
       "j          1      Jonas     yes   19.0\n",
       "\n",
       "[10 rows x 4 columns]"
      ]
     },
     "execution_count": 26,
     "metadata": {},
     "output_type": "execute_result"
    }
   ],
   "source": [
    "pd.options.display.max_rows = 4\n",
    "exam_data = {\n",
    "    'name': ['Anastasia', 'Dima', 'Katherine', 'James', 'Emily', 'Michael', 'Matthew', 'Laura', 'Kevin', 'Jonas'],\n",
    "    'score': [12.5, 9, 16.5, np.nan, 9, 20, 14.5, np.nan, 8, 19],\n",
    "    'attempts': [1, 3, 2, 3, 2, 3, 1, 1, 2, 1],\n",
    "    'qualify': ['yes', 'no', 'yes', 'no', 'no', 'yes', 'yes', 'no', 'no', 'yes']\n",
    "}\n",
    "\n",
    "labels = ['a', 'b', 'c', 'd', 'e', 'f', 'g', 'h', 'i', 'j']\n",
    "\n",
    "COL_ORDER = [\"attempts\", \"name\", \"qualify\", \"score\"]\n",
    "\n",
    "data = pd.DataFrame(exam_data, index=labels)\n",
    "data[COL_ORDER]"
   ]
  },
  {
   "attachments": {},
   "cell_type": "markdown",
   "metadata": {},
   "source": [
    "# 2. Write a Pandas program to display a summary of the basic information about a specified DataFrame and its data\n",
    "\n",
    "The same input as above.  \n",
    "Expected output:\n",
    "```\n",
    "Summary of the basic information about this DataFrame and its data:\n",
    "<class 'pandas.core.frame.DataFrame'>\n",
    "Index: 10 entries, a to j\n",
    "Data columns (total 4 columns):\n",
    "...\n",
    "dtypes: float64(1), int64(1), object(2)\n",
    "memory usage: 400.0+ bytes\n",
    "None \n",
    "```"
   ]
  },
  {
   "cell_type": "code",
   "execution_count": 12,
   "metadata": {},
   "outputs": [
    {
     "name": "stdout",
     "output_type": "stream",
     "text": [
      "Summary of the basic information about this DataFrame and its data:\n",
      "<class 'pandas.core.frame.DataFrame'>\n",
      "Index: 10 entries, a to j\n",
      "Data columns (total 4 columns):\n",
      " #   Column    Non-Null Count  Dtype  \n",
      "---  ------    --------------  -----  \n",
      " 0   name      10 non-null     object \n",
      " 1   score     8 non-null      float64\n",
      " 2   attempts  10 non-null     int64  \n",
      " 3   qualify   10 non-null     object \n",
      "dtypes: float64(1), int64(1), object(2)\n",
      "memory usage: 400.0+ bytes\n"
     ]
    }
   ],
   "source": [
    "print(\"Summary of the basic information about this DataFrame and its data:\")\n",
    "data.info()"
   ]
  },
  {
   "attachments": {},
   "cell_type": "markdown",
   "metadata": {},
   "source": [
    "# 3. Write a Pandas program to select the specified columns and rows from a given data frame.\n",
    "\n",
    "The same input. Select 'name' and 'score' columns in rows 1, 3, 5, 6 from the following data frame.  \n",
    "Expected output:\n",
    "\n",
    "| | name | score |\n",
    "| --- | --- | --- |\n",
    "| b | Dima | 9.0 |\n",
    "| d | James | NaN |\n",
    "| f | Michael | 20.0 |\n",
    "| g | Matthew | 14.5 |\n"
   ]
  },
  {
   "cell_type": "code",
   "execution_count": 21,
   "metadata": {},
   "outputs": [
    {
     "data": {
      "text/html": [
       "<div>\n",
       "<style scoped>\n",
       "    .dataframe tbody tr th:only-of-type {\n",
       "        vertical-align: middle;\n",
       "    }\n",
       "\n",
       "    .dataframe tbody tr th {\n",
       "        vertical-align: top;\n",
       "    }\n",
       "\n",
       "    .dataframe thead th {\n",
       "        text-align: right;\n",
       "    }\n",
       "</style>\n",
       "<table border=\"1\" class=\"dataframe\">\n",
       "  <thead>\n",
       "    <tr style=\"text-align: right;\">\n",
       "      <th></th>\n",
       "      <th>name</th>\n",
       "      <th>score</th>\n",
       "    </tr>\n",
       "  </thead>\n",
       "  <tbody>\n",
       "    <tr>\n",
       "      <th>b</th>\n",
       "      <td>Dima</td>\n",
       "      <td>9.0</td>\n",
       "    </tr>\n",
       "    <tr>\n",
       "      <th>d</th>\n",
       "      <td>James</td>\n",
       "      <td>NaN</td>\n",
       "    </tr>\n",
       "    <tr>\n",
       "      <th>f</th>\n",
       "      <td>Michael</td>\n",
       "      <td>20.0</td>\n",
       "    </tr>\n",
       "    <tr>\n",
       "      <th>g</th>\n",
       "      <td>Matthew</td>\n",
       "      <td>14.5</td>\n",
       "    </tr>\n",
       "  </tbody>\n",
       "</table>\n",
       "</div>"
      ],
      "text/plain": [
       "      name  score\n",
       "b     Dima    9.0\n",
       "d    James    NaN\n",
       "f  Michael   20.0\n",
       "g  Matthew   14.5"
      ]
     },
     "execution_count": 21,
     "metadata": {},
     "output_type": "execute_result"
    }
   ],
   "source": [
    "rows_to_select = [1,3,5,6]\n",
    "data.iloc[rows_to_select, :2]"
   ]
  },
  {
   "attachments": {},
   "cell_type": "markdown",
   "metadata": {},
   "source": [
    "# 4. Write a Pandas program to select the rows where the score is missing, i.e. is NaN.\n",
    "\n",
    "The same input.  \n",
    "Expected output:  \n",
    "Rows where score is missing:\n",
    "\n",
    "| | attempts | name | qualify | score |\n",
    "| --- | --- | --- | --- | --- |\n",
    "| d | 3 | James | no | NaN |\n",
    "| h | 1 | Laura | no | NaN |"
   ]
  },
  {
   "cell_type": "code",
   "execution_count": 27,
   "metadata": {},
   "outputs": [
    {
     "name": "stdout",
     "output_type": "stream",
     "text": [
      "Rows where score is missing:\n"
     ]
    },
    {
     "data": {
      "text/html": [
       "<div>\n",
       "<style scoped>\n",
       "    .dataframe tbody tr th:only-of-type {\n",
       "        vertical-align: middle;\n",
       "    }\n",
       "\n",
       "    .dataframe tbody tr th {\n",
       "        vertical-align: top;\n",
       "    }\n",
       "\n",
       "    .dataframe thead th {\n",
       "        text-align: right;\n",
       "    }\n",
       "</style>\n",
       "<table border=\"1\" class=\"dataframe\">\n",
       "  <thead>\n",
       "    <tr style=\"text-align: right;\">\n",
       "      <th></th>\n",
       "      <th>attempts</th>\n",
       "      <th>name</th>\n",
       "      <th>qualify</th>\n",
       "      <th>score</th>\n",
       "    </tr>\n",
       "  </thead>\n",
       "  <tbody>\n",
       "    <tr>\n",
       "      <th>d</th>\n",
       "      <td>3</td>\n",
       "      <td>James</td>\n",
       "      <td>no</td>\n",
       "      <td>NaN</td>\n",
       "    </tr>\n",
       "    <tr>\n",
       "      <th>h</th>\n",
       "      <td>1</td>\n",
       "      <td>Laura</td>\n",
       "      <td>no</td>\n",
       "      <td>NaN</td>\n",
       "    </tr>\n",
       "  </tbody>\n",
       "</table>\n",
       "</div>"
      ],
      "text/plain": [
       "   attempts   name qualify  score\n",
       "d         3  James      no    NaN\n",
       "h         1  Laura      no    NaN"
      ]
     },
     "execution_count": 27,
     "metadata": {},
     "output_type": "execute_result"
    }
   ],
   "source": [
    "print(\"Rows where score is missing:\")\n",
    "data.loc[data.score.isna(), COL_ORDER]"
   ]
  },
  {
   "attachments": {},
   "cell_type": "markdown",
   "metadata": {},
   "source": [
    "# 5. Write a Pandas program to select the rows the score is between 15 and 20 (inclusive).\n",
    "The same input.  \n",
    "Expected output:  \n",
    "Rows where score between 15 and 20 (inclusive):\n",
    "\n",
    "| | attempts | name | qualify | score |\n",
    "| --- | ---| --- | --- | --- |\n",
    "| c | 2 | Katherine | yes | 16.5 |\n",
    "| f | 3 | Michael | yes | 20.0 |\n",
    "| j | 1 | Jonas | yes | 19.0 |\n"
   ]
  },
  {
   "cell_type": "code",
   "execution_count": 28,
   "metadata": {},
   "outputs": [
    {
     "name": "stdout",
     "output_type": "stream",
     "text": [
      "Rows where score between 15 and 20 (inclusive):\n"
     ]
    },
    {
     "data": {
      "text/html": [
       "<div>\n",
       "<style scoped>\n",
       "    .dataframe tbody tr th:only-of-type {\n",
       "        vertical-align: middle;\n",
       "    }\n",
       "\n",
       "    .dataframe tbody tr th {\n",
       "        vertical-align: top;\n",
       "    }\n",
       "\n",
       "    .dataframe thead th {\n",
       "        text-align: right;\n",
       "    }\n",
       "</style>\n",
       "<table border=\"1\" class=\"dataframe\">\n",
       "  <thead>\n",
       "    <tr style=\"text-align: right;\">\n",
       "      <th></th>\n",
       "      <th>attempts</th>\n",
       "      <th>name</th>\n",
       "      <th>qualify</th>\n",
       "      <th>score</th>\n",
       "    </tr>\n",
       "  </thead>\n",
       "  <tbody>\n",
       "    <tr>\n",
       "      <th>c</th>\n",
       "      <td>2</td>\n",
       "      <td>Katherine</td>\n",
       "      <td>yes</td>\n",
       "      <td>16.5</td>\n",
       "    </tr>\n",
       "    <tr>\n",
       "      <th>f</th>\n",
       "      <td>3</td>\n",
       "      <td>Michael</td>\n",
       "      <td>yes</td>\n",
       "      <td>20.0</td>\n",
       "    </tr>\n",
       "    <tr>\n",
       "      <th>j</th>\n",
       "      <td>1</td>\n",
       "      <td>Jonas</td>\n",
       "      <td>yes</td>\n",
       "      <td>19.0</td>\n",
       "    </tr>\n",
       "  </tbody>\n",
       "</table>\n",
       "</div>"
      ],
      "text/plain": [
       "   attempts       name qualify  score\n",
       "c         2  Katherine     yes   16.5\n",
       "f         3    Michael     yes   20.0\n",
       "j         1      Jonas     yes   19.0"
      ]
     },
     "execution_count": 28,
     "metadata": {},
     "output_type": "execute_result"
    }
   ],
   "source": [
    "print(\"Rows where score between 15 and 20 (inclusive):\")\n",
    "condition = ((data.score >= 15) & (data.score <= 20))\n",
    "data.loc[condition, COL_ORDER]"
   ]
  },
  {
   "attachments": {},
   "cell_type": "markdown",
   "metadata": {},
   "source": [
    "# 6. Write a Pandas program to calculate the sum of the examination attempts by the students.\n",
    "The same input.  \n",
    "Expected output:\n",
    "```\n",
    "Sum of the examination attempts by the students:\n",
    "19 \n",
    "```"
   ]
  },
  {
   "cell_type": "code",
   "execution_count": 32,
   "metadata": {},
   "outputs": [
    {
     "name": "stdout",
     "output_type": "stream",
     "text": [
      "Sum of the examination attempts by the students:\n",
      "19\n"
     ]
    }
   ],
   "source": [
    "print(f\"Sum of the examination attempts by the students:\\n{data.attempts.sum()}\")"
   ]
  },
  {
   "attachments": {},
   "cell_type": "markdown",
   "metadata": {},
   "source": [
    "# 7. Write a Pandas program to sort the DataFrame first by 'name' in descending order, then by 'score' in ascending order.\n",
    "The same input data as above  \n",
    "Expected output:  \n",
    "`Sort the data frame first by 'name' in descending order, then by 'score' in ascending order: `\n",
    "\n",
    "| | attempts | name | qualify | score |\n",
    "| --- | ---| --- | --- | --- |\n",
    "| a | 1 | Anastasia | yes | 12.5 | \n",
    "| b | 3 | Dima | no | 9.0\n",
    "... \n",
    "| i | 2 | Kevin | no | 8.0 | \n",
    "| j | 1 | Jonas | yes | 19.0 | \n"
   ]
  },
  {
   "cell_type": "code",
   "execution_count": 46,
   "metadata": {},
   "outputs": [
    {
     "name": "stdout",
     "output_type": "stream",
     "text": [
      "Sort the data frame first by 'name' in descending order, then by 'score' in ascending order:\n"
     ]
    },
    {
     "data": {
      "text/html": [
       "<div>\n",
       "<style scoped>\n",
       "    .dataframe tbody tr th:only-of-type {\n",
       "        vertical-align: middle;\n",
       "    }\n",
       "\n",
       "    .dataframe tbody tr th {\n",
       "        vertical-align: top;\n",
       "    }\n",
       "\n",
       "    .dataframe thead th {\n",
       "        text-align: right;\n",
       "    }\n",
       "</style>\n",
       "<table border=\"1\" class=\"dataframe\">\n",
       "  <thead>\n",
       "    <tr style=\"text-align: right;\">\n",
       "      <th></th>\n",
       "      <th>name</th>\n",
       "      <th>score</th>\n",
       "      <th>attempts</th>\n",
       "      <th>qualify</th>\n",
       "    </tr>\n",
       "  </thead>\n",
       "  <tbody>\n",
       "    <tr>\n",
       "      <th>f</th>\n",
       "      <td>Michael</td>\n",
       "      <td>20.0</td>\n",
       "      <td>3</td>\n",
       "      <td>yes</td>\n",
       "    </tr>\n",
       "    <tr>\n",
       "      <th>g</th>\n",
       "      <td>Matthew</td>\n",
       "      <td>14.5</td>\n",
       "      <td>1</td>\n",
       "      <td>yes</td>\n",
       "    </tr>\n",
       "    <tr>\n",
       "      <th>...</th>\n",
       "      <td>...</td>\n",
       "      <td>...</td>\n",
       "      <td>...</td>\n",
       "      <td>...</td>\n",
       "    </tr>\n",
       "    <tr>\n",
       "      <th>b</th>\n",
       "      <td>Dima</td>\n",
       "      <td>9.0</td>\n",
       "      <td>3</td>\n",
       "      <td>no</td>\n",
       "    </tr>\n",
       "    <tr>\n",
       "      <th>a</th>\n",
       "      <td>Anastasia</td>\n",
       "      <td>12.5</td>\n",
       "      <td>1</td>\n",
       "      <td>yes</td>\n",
       "    </tr>\n",
       "  </tbody>\n",
       "</table>\n",
       "<p>10 rows × 4 columns</p>\n",
       "</div>"
      ],
      "text/plain": [
       "         name  score  attempts qualify\n",
       "f     Michael   20.0         3     yes\n",
       "g     Matthew   14.5         1     yes\n",
       "..        ...    ...       ...     ...\n",
       "b        Dima    9.0         3      no\n",
       "a   Anastasia   12.5         1     yes\n",
       "\n",
       "[10 rows x 4 columns]"
      ]
     },
     "execution_count": 46,
     "metadata": {},
     "output_type": "execute_result"
    }
   ],
   "source": [
    "print(\"Sort the data frame first by 'name' in descending order, then by 'score' in ascending order:\")\n",
    "data\\\n",
    "    .sort_values(by=['name', 'score'], ascending=[False, True])"
   ]
  },
  {
   "attachments": {},
   "cell_type": "markdown",
   "metadata": {},
   "source": [
    "# 7.1. Write a Pandas program to append a new row 'k' to DataFrame with given values for each column.\n",
    "The same input data as above. Values for each column will be:  \n",
    "`name : ‘Suresh’, score: 15.5, attempts: 1, qualify: ‘yes’, label: ‘k’`  \n",
    "Expected output:  \n",
    "\n",
    "| | attempts | name | qualify | score |\n",
    "| --- | ---| --- | --- | --- |\n",
    "| a | 1 | Anastasia | yes | 12.5 | \n",
    "| b | 3 | Dima | no | 9.0\n",
    "... \n",
    "| j | 1 | Jonas | yes | 19.0 | \n",
    "| k | 1 | Suresh | yes | 15.5 | "
   ]
  },
  {
   "cell_type": "code",
   "execution_count": 92,
   "metadata": {},
   "outputs": [],
   "source": [
    "data.loc[\"k\"] = ['Suresh',  15.5, 1, 'yes']\n",
    "data[COL_ORDER]\n",
    "data.drop(\"k\", axis=0, inplace=True)"
   ]
  },
  {
   "attachments": {},
   "cell_type": "markdown",
   "metadata": {},
   "source": [
    "# 8. Write a Pandas program to get list from DataFrame column headers. \n",
    "The same input data as above  \n",
    "Expected Output:  \n",
    "`['attempts', 'name', 'qualify', 'score']`\n",
    "\n"
   ]
  },
  {
   "cell_type": "code",
   "execution_count": 54,
   "metadata": {},
   "outputs": [
    {
     "data": {
      "text/plain": [
       "['attempts', 'name', 'qualify', 'score']"
      ]
     },
     "execution_count": 54,
     "metadata": {},
     "output_type": "execute_result"
    }
   ],
   "source": [
    "list(data[COL_ORDER].columns)"
   ]
  },
  {
   "attachments": {},
   "cell_type": "markdown",
   "metadata": {},
   "source": [
    "# 9. Write a Pandas program to rename columns of a given DataFrame \n",
    "Sample data:\n",
    "\n",
    "| | col1 | col2 | col3 |\n",
    "| --- | ---| --- | --- |\n",
    "| 0 | 1 | 4 | 7 | \n",
    "| 1 | 2 | 5 | 8 | \n",
    "| 2 | 3 | 6 | 9 |\n",
    "\n",
    "New DataFrame after renaming columns:\n",
    "\n",
    "| | Column1 | Column2 | Column3 |\n",
    "| --- | ---| --- | --- |\n",
    "| 0 | 1 | 4 | 7 | \n",
    "| 1 | 2 | 5 | 8 | \n",
    "| 2 | 3 | 6 | 9 |\n",
    "\n"
   ]
  },
  {
   "cell_type": "code",
   "execution_count": 61,
   "metadata": {},
   "outputs": [
    {
     "name": "stdout",
     "output_type": "stream",
     "text": [
      "Sample data:\n",
      "   col1  col2  col3\n",
      "0     1     4     7\n",
      "1     2     5     8\n",
      "2     3     6     9\n",
      "\n",
      "New DataFrame after renaming columns:\n",
      "   Column1  Column2  Column3\n",
      "0        1        4        7\n",
      "1        2        5        8\n",
      "2        3        6        9\n"
     ]
    }
   ],
   "source": [
    "sample = pd.DataFrame(\n",
    "    data={\n",
    "        \"col1\": range(1,4,1),\n",
    "        \"col2\": range(4,7,1),\n",
    "        \"col3\": range(7,10,1),\n",
    "    }\n",
    ")\n",
    "print(f\"Sample data:\")\n",
    "print(sample)\n",
    "print(\"\\nNew DataFrame after renaming columns:\")\n",
    "print(\n",
    "    sample.rename(\n",
    "        mapper={\n",
    "            \"col1\": \"Column1\",\n",
    "            \"col2\": \"Column2\",\n",
    "            \"col3\": \"Column3\",\n",
    "        },\n",
    "        axis=1\n",
    "    )\n",
    ")"
   ]
  },
  {
   "attachments": {},
   "cell_type": "markdown",
   "metadata": {},
   "source": [
    "# 10. Write a Pandas program to select rows from a given DataFrame based on values in some columns. \n",
    "Sample data:  \n",
    "Original DataFrame\n",
    "\n",
    "| | col1 | col2 | col3 |\n",
    "| --- | ---| --- | --- |\n",
    "| 0 | 1 | 4 | 7 |\n",
    "| 1 | 4 | 5 | 8 |\n",
    "| 2 | 3 | 6 | 9 |\n",
    "| 3 | 4 | 7 | 0 |\n",
    "| 4 | 5 | 8 | 1 |\n",
    "\n",
    "Expected output:  \n",
    "\n",
    "`Rows for colum1 value == 4`\n",
    "\n",
    "| | col1 | col2 | col3 |\n",
    "| --- | ---| --- | --- |\n",
    "| 1 | 4 | 5 | 8 |\n",
    "| 3 | 4 | 7 | 0 |"
   ]
  },
  {
   "cell_type": "code",
   "execution_count": 65,
   "metadata": {},
   "outputs": [
    {
     "name": "stdout",
     "output_type": "stream",
     "text": [
      "Original dataframe:\n",
      "    col1  col2  col_3\n",
      "0      1     4      7\n",
      "1      4     5      8\n",
      "..   ...   ...    ...\n",
      "3      4     7      0\n",
      "4      5     8      1\n",
      "\n",
      "[5 rows x 3 columns]\n",
      "\n",
      "Rows for column1 value==4:\n",
      "   col1  col2  col_3\n",
      "1     4     5      8\n",
      "3     4     7      0\n"
     ]
    }
   ],
   "source": [
    "sample = pd.DataFrame(\n",
    "    data={\n",
    "        \"col1\": [1, 4, 3, 4, 5],\n",
    "        \"col2\": range(4, 9, 1),\n",
    "        \"col_3\": [7, 8, 9, 0, 1]\n",
    "    }\n",
    ")\n",
    "\n",
    "print(\"Original dataframe:\")\n",
    "print(sample)\n",
    "print(\"\\nRows for column1 value==4:\")\n",
    "print(sample.loc[sample.col1==4])"
   ]
  },
  {
   "attachments": {},
   "cell_type": "markdown",
   "metadata": {},
   "source": [
    "# 11. Write a Pandas program to widen output display to see more columns. \n",
    "Input data, the same as above"
   ]
  },
  {
   "cell_type": "code",
   "execution_count": 75,
   "metadata": {},
   "outputs": [
    {
     "name": "stdout",
     "output_type": "stream",
     "text": [
      "Current number of columns to be displayed 20\n",
      "Updated number of columns to be displayed 21\n"
     ]
    }
   ],
   "source": [
    "pd.set_option(\"display.max_columns\", 20)\n",
    "print(f\"Current number of columns to be displayed {pd.options.display.max_columns}\")\n",
    "pd.set_option(\"display.max_columns\", pd.options.display.max_columns+1)\n",
    "print(f\"Updated number of columns to be displayed {pd.options.display.max_columns}\")"
   ]
  },
  {
   "attachments": {},
   "cell_type": "markdown",
   "metadata": {},
   "source": [
    "# 12. Write a Pandas program to replace all the NaN values with Zero's in a column of a dataframe. \n",
    "Sample data:\n",
    "\n",
    "| | attempts | name | qualify | score |\n",
    "| --- | ---| --- | --- | --- |\n",
    "| 0 | 1 | Anastasia | yes | 12.5 |\n",
    "| 1 | 3 | Dima | no | 9.0 |\n",
    "| 2 | 2 | Katherine | yes | 16.5 |\n",
    "| 3 | 3 | James | no | NaN |\n",
    "| 4 | 2 | Emily | no | 9.0 |\n",
    "| 5 | 3 | Michael | yes | 20.0 |\n",
    "| 6 | 1 | Matthew | yes | 14.5 |\n",
    "| 7 | 1 | Laura | no | NaN |\n",
    "| 8 | 2 | Kevin | no | 8.0 |\n",
    "| 9 | 1 | Jonas | yes | 19.0 |\n",
    "\n",
    "New DataFrame replacing all NaN with 0:\n",
    "\n",
    "| | attempts | name | qualify | score |\n",
    "| --- | ---| --- | --- | --- |\n",
    "| 0 | 1 | Anastasia | yes | 12.5 |\n",
    "| 1 | 3 | Dima | no | 9.0 |\n",
    "| 2 | 2 | Katherine | yes | 16.5 |\n",
    "| 3 | 3 | James | no | 0.0 |\n",
    "| 4 | 2 | Emily | no | 9.0 |\n",
    "| 5 | 3 | Michael | yes | 20.0 |\n",
    "| 6 | 1 | Matthew | yes | 14.5 |\n",
    "| 7 | 1 | Laura | no | 0.0 |\n",
    "| 8 | 2 | Kevin | no | 8.0 |\n",
    "| 9 | 1 | Jonas | yes | 19.0 |\n"
   ]
  },
  {
   "cell_type": "code",
   "execution_count": 93,
   "metadata": {},
   "outputs": [
    {
     "name": "stdout",
     "output_type": "stream",
     "text": [
      "New DataFrame replacing all NaN with 0:\n"
     ]
    },
    {
     "data": {
      "text/html": [
       "<div>\n",
       "<style scoped>\n",
       "    .dataframe tbody tr th:only-of-type {\n",
       "        vertical-align: middle;\n",
       "    }\n",
       "\n",
       "    .dataframe tbody tr th {\n",
       "        vertical-align: top;\n",
       "    }\n",
       "\n",
       "    .dataframe thead th {\n",
       "        text-align: right;\n",
       "    }\n",
       "</style>\n",
       "<table border=\"1\" class=\"dataframe\">\n",
       "  <thead>\n",
       "    <tr style=\"text-align: right;\">\n",
       "      <th></th>\n",
       "      <th>attempts</th>\n",
       "      <th>name</th>\n",
       "      <th>qualify</th>\n",
       "      <th>score</th>\n",
       "    </tr>\n",
       "  </thead>\n",
       "  <tbody>\n",
       "    <tr>\n",
       "      <th>0</th>\n",
       "      <td>1</td>\n",
       "      <td>Anastasia</td>\n",
       "      <td>yes</td>\n",
       "      <td>12.5</td>\n",
       "    </tr>\n",
       "    <tr>\n",
       "      <th>1</th>\n",
       "      <td>3</td>\n",
       "      <td>Dima</td>\n",
       "      <td>no</td>\n",
       "      <td>9.0</td>\n",
       "    </tr>\n",
       "    <tr>\n",
       "      <th>2</th>\n",
       "      <td>2</td>\n",
       "      <td>Katherine</td>\n",
       "      <td>yes</td>\n",
       "      <td>16.5</td>\n",
       "    </tr>\n",
       "    <tr>\n",
       "      <th>3</th>\n",
       "      <td>3</td>\n",
       "      <td>James</td>\n",
       "      <td>no</td>\n",
       "      <td>0.0</td>\n",
       "    </tr>\n",
       "    <tr>\n",
       "      <th>4</th>\n",
       "      <td>2</td>\n",
       "      <td>Emily</td>\n",
       "      <td>no</td>\n",
       "      <td>9.0</td>\n",
       "    </tr>\n",
       "    <tr>\n",
       "      <th>5</th>\n",
       "      <td>3</td>\n",
       "      <td>Michael</td>\n",
       "      <td>yes</td>\n",
       "      <td>20.0</td>\n",
       "    </tr>\n",
       "    <tr>\n",
       "      <th>6</th>\n",
       "      <td>1</td>\n",
       "      <td>Matthew</td>\n",
       "      <td>yes</td>\n",
       "      <td>14.5</td>\n",
       "    </tr>\n",
       "    <tr>\n",
       "      <th>7</th>\n",
       "      <td>1</td>\n",
       "      <td>Laura</td>\n",
       "      <td>no</td>\n",
       "      <td>0.0</td>\n",
       "    </tr>\n",
       "    <tr>\n",
       "      <th>8</th>\n",
       "      <td>2</td>\n",
       "      <td>Kevin</td>\n",
       "      <td>no</td>\n",
       "      <td>8.0</td>\n",
       "    </tr>\n",
       "    <tr>\n",
       "      <th>9</th>\n",
       "      <td>1</td>\n",
       "      <td>Jonas</td>\n",
       "      <td>yes</td>\n",
       "      <td>19.0</td>\n",
       "    </tr>\n",
       "  </tbody>\n",
       "</table>\n",
       "</div>"
      ],
      "text/plain": [
       "   attempts       name qualify  score\n",
       "0         1  Anastasia     yes   12.5\n",
       "1         3       Dima      no    9.0\n",
       "2         2  Katherine     yes   16.5\n",
       "3         3      James      no    0.0\n",
       "4         2      Emily      no    9.0\n",
       "5         3    Michael     yes   20.0\n",
       "6         1    Matthew     yes   14.5\n",
       "7         1      Laura      no    0.0\n",
       "8         2      Kevin      no    8.0\n",
       "9         1      Jonas     yes   19.0"
      ]
     },
     "execution_count": 93,
     "metadata": {},
     "output_type": "execute_result"
    }
   ],
   "source": [
    "pd.set_option(\"display.max_rows\", 12)\n",
    "print(\"New DataFrame replacing all NaN with 0:\")\n",
    "data[COL_ORDER]\\\n",
    "    .fillna(0)\\\n",
    "    .reset_index(drop=True)"
   ]
  },
  {
   "attachments": {},
   "cell_type": "markdown",
   "metadata": {},
   "source": [
    "# 13. Write a Pandas program to reset index in a given DataFrame. \n",
    "Input data: the same as above  \n",
    "`After removing first and second rows`  \n",
    "\n",
    "| | attempts | name | qualify | score |\n",
    "| --- | ---| --- | --- | --- |\n",
    "| 2 | 2 | Katherine | yes | 16.5 |\n",
    "| 3 | 3 | James | no | NaN |\n",
    "| 4 | 2 | Emily | no | 9.0 |\n",
    "| 5 | 3 | Michael | yes | 20.0 |\n",
    "| 6 | 1 | Matthew | yes | 14.5 |\n",
    "| 7 | 1 | Laura | no | NaN |\n",
    "| 8 | 2 | Kevin | no | 8.0 |\n",
    "| 9 | 1 | Jonas | yes | 19.0 |\n",
    "\n",
    "`Reset the Index:`\n",
    "\n",
    "| | index | attempts | name | qualify | score |\n",
    "| --- | --- | ---| --- | --- | --- |\n",
    "| 0 | 2 | 2 | Katherine | yes | 16.5 |\n",
    "| 1 | 3 | 3 | James | no | NaN |\n",
    "| 2 | 4 | 2 | Emily | no | 9.0 |\n",
    "| 3 | 5 | 3 | Michael | yes | 20.0 |\n",
    "| 4 | 6 | 1 | Matthew | yes | 14.5 |\n",
    "| 5 | 7 | 1 | Laura | no | NaN |\n",
    "| 6 | 8 | 2 | Kevin | no | 8.0 |\n",
    "| 7 | 9 | 1 | Jonas | yes | 19.0 |\n"
   ]
  },
  {
   "cell_type": "code",
   "execution_count": 94,
   "metadata": {},
   "outputs": [
    {
     "name": "stdout",
     "output_type": "stream",
     "text": [
      "After removing the first and the sencond rows:\n",
      "  attempts       name qualify score\n",
      "2        2  Katherine     yes  16.5\n",
      "3        3      James      no   NaN\n",
      "4        2      Emily      no   9.0\n",
      "5        3    Michael     yes  20.0\n",
      "6        1    Matthew     yes  14.5\n",
      "7        1      Laura      no   NaN\n",
      "8        2      Kevin      no   8.0\n",
      "9        1      Jonas     yes  19.0\n",
      "\n",
      "Reset the Index:\n",
      "   index attempts       name qualify score\n",
      "0      2        2  Katherine     yes  16.5\n",
      "1      3        3      James      no   NaN\n",
      "2      4        2      Emily      no   9.0\n",
      "3      5        3    Michael     yes  20.0\n",
      "4      6        1    Matthew     yes  14.5\n",
      "5      7        1      Laura      no   NaN\n",
      "6      8        2      Kevin      no   8.0\n",
      "7      9        1      Jonas     yes  19.0\n"
     ]
    }
   ],
   "source": [
    "data_copy = data.copy(deep=True).reset_index(drop=True).drop([0,1], axis=0)\n",
    "print(\"After removing the first and the sencond rows:\")\n",
    "print(data_copy[COL_ORDER])\n",
    "print(\"\\nReset the Index:\")\n",
    "print(data_copy[COL_ORDER].reset_index())"
   ]
  },
  {
   "attachments": {},
   "cell_type": "markdown",
   "metadata": {},
   "source": [
    "# 14. Write a Pandas program to devide a DataFrame in a given ratio.\n",
    "Input data:  \n",
    "\n",
    "| | 0 | 1 |\n",
    "| --- | --- | --- |\n",
    "| 0 | 0.316147 | -0.767359 |\n",
    "| 1 | -0.813410 | -2.522672 |\n",
    "| 2 | 0.869615 | 1.194704 |\n",
    "| 3 | -0.892915 | -0.055133 |\n",
    "| 4 | -0.341126 | 0.518266 |\n",
    "| 5 | 1.857342 | 1.361229 |\n",
    "| 6 | -0.044353 | -1.205002 |\n",
    "| 7 | -0.726346 | -0.535147 |\n",
    "| 8 | -1.350726 | 0.563117 |\n",
    "| 9 | 1.051666 | -0.441533 |\n",
    "\n",
    "70% of the said DataFrame:\n",
    "\n",
    "| | 0 | 1 |\n",
    "| --- | --- | --- |\n",
    "| 0 | 0.316147 | -0.767359 |\n",
    "| 2 | 0.869615 | 1.194704 |\n",
    "| 3 | -0.892915 | -0.055133 |\n",
    "| 4 | -0.341126 | 0.518266 |\n",
    "| 6 | -0.044353 | -1.205002 |\n",
    "| 7 | -0.726346 | -0.535147 |\n",
    "| 9 | 1.051666 | -0.441533 |\n",
    "\n",
    "30% of the said DataFrame:\n",
    "\n",
    "| | 0 | 1 |\n",
    "| --- | --- | --- |\n",
    "| 1 | -0.813410 | -2.522672 |\n",
    "| 5 | 1.857342 | 1.361229 |\n",
    "| 8 | -1.350726 | 0.563117 |\n",
    "\n",
    "### 3 notes concerning the code:\n",
    "* Since the data generation and the data split do not have any seeds reported, the results are not completely the same: the input data is different, but the ratios are respected\n",
    "* Since the task is to write a \"Pandas\" program, I was not using any sklearn features and was trying to use as much of pandas functionality as possible\n",
    "* I am not using `pd.DataFrame.sample` method since generaly operations with index are much faster"
   ]
  },
  {
   "cell_type": "code",
   "execution_count": 119,
   "metadata": {},
   "outputs": [
    {
     "name": "stdout",
     "output_type": "stream",
     "text": [
      "70% of the said DataFrame:\n",
      "          0         1\n",
      "1 -0.873072  2.682445\n",
      "0 -3.861730  3.166442\n",
      "3 -0.054671  2.065020\n",
      "6  2.002476  0.813416\n",
      "5  1.233205  0.219757\n",
      "8  2.016034  3.242648\n",
      "2 -1.282255  0.279113\n",
      "\n",
      "30% of the said DataFrame:\n",
      "          0         1\n",
      "4 -0.686856 -0.108471\n",
      "7  3.429203  1.551042\n",
      "9  3.866956 -2.274437\n"
     ]
    }
   ],
   "source": [
    "np.random.seed(20230301)\n",
    "random_data = pd.DataFrame(\n",
    "    data={\n",
    "        0: np.random.normal(0, 2, 10),\n",
    "        1: np.random.normal(0, 2, 10),\n",
    "    }\n",
    ")\n",
    "\n",
    "FRAC = .7\n",
    "train_index = pd.Series(random_data.index)\\\n",
    "    .sample(frac=FRAC, random_state=20230301)\\\n",
    "    .to_list()\n",
    "\n",
    "print(f\"{FRAC*100:.0f}% of the said DataFrame:\")\n",
    "print(random_data.loc[train_index, :])\n",
    "\n",
    "print(f\"\\n{(1-FRAC)*100:.0f}% of the said DataFrame:\")\n",
    "print(random_data.loc[random_data.index.difference(train_index), :])"
   ]
  },
  {
   "attachments": {},
   "cell_type": "markdown",
   "metadata": {},
   "source": [
    "# 15. Write a Pandas program to convert DataFrame column type from string to datetime.\n",
    "\n",
    "Sample data:\n",
    "\n",
    "| | string_date | \n",
    "| --- | --- | \n",
    "| 0 | 3/11/2000 | \n",
    "| 1 | 3/12/2000 | \n",
    "| 2 | 3/13/2000 | \n",
    "\n",
    "`dtype: object`\n",
    "\n",
    "Original DataFrame (string to datetime):\n",
    "\n",
    "| | converted_date |\n",
    "| --- | --- | \n",
    "| 0 | 2000-03-11 |\n",
    "| 1 | 2000-03-12 |\n",
    "| 2 | 2000-03-13 |"
   ]
  },
  {
   "cell_type": "code",
   "execution_count": 128,
   "metadata": {},
   "outputs": [
    {
     "name": "stdout",
     "output_type": "stream",
     "text": [
      "Sample data:\n",
      "0    3/11/2000\n",
      "1    3/12/2000\n",
      "2    3/13/2000\n",
      "dtype: object\n",
      "\n",
      "Datetime series:\n",
      "0    2000-03-11\n",
      "1    2000-03-12\n",
      "2    2000-03-13\n",
      "dtype: object\n"
     ]
    }
   ],
   "source": [
    "string_series = pd.Series([\"3/11/2000\", \"3/12/2000\", \"3/13/2000\"])\n",
    "print(\"Sample data:\")\n",
    "print(string_series)\n",
    "\n",
    "print(\"\\nDatetime series:\")\n",
    "print(pd.to_datetime(string_series).dt.date)"
   ]
  },
  {
   "attachments": {},
   "cell_type": "markdown",
   "metadata": {},
   "source": [
    "# 16. Write a Pandas program to create a DataFrame from a Numpy array and specify the index column and column headers. \n",
    "Sample Output:\n",
    "\n",
    "| |  Column1 | Column2 | Column3 |\n",
    "| --- | --- | --- | --- |\n",
    "| Index1 | 0.0 | 0.0 | 0.0 |\n",
    "| Index2 | 0.0 | 0.0 | 0.0 |\n",
    "| Index3 | 0.0 | 0.0 | 0.0 |\n",
    "...\n",
    "| Index13 | 0.0 | 0.0 | 0.0 |\n",
    "| Index14 | 0.0 | 0.0 | 0.0 |\n",
    "| Index15 | 0.0 | 0.0 | 0.0 |\n"
   ]
  },
  {
   "cell_type": "code",
   "execution_count": 132,
   "metadata": {},
   "outputs": [
    {
     "data": {
      "text/html": [
       "<div>\n",
       "<style scoped>\n",
       "    .dataframe tbody tr th:only-of-type {\n",
       "        vertical-align: middle;\n",
       "    }\n",
       "\n",
       "    .dataframe tbody tr th {\n",
       "        vertical-align: top;\n",
       "    }\n",
       "\n",
       "    .dataframe thead th {\n",
       "        text-align: right;\n",
       "    }\n",
       "</style>\n",
       "<table border=\"1\" class=\"dataframe\">\n",
       "  <thead>\n",
       "    <tr style=\"text-align: right;\">\n",
       "      <th></th>\n",
       "      <th>Column1</th>\n",
       "      <th>Column2</th>\n",
       "      <th>Column3</th>\n",
       "    </tr>\n",
       "  </thead>\n",
       "  <tbody>\n",
       "    <tr>\n",
       "      <th>Index1</th>\n",
       "      <td>0.0</td>\n",
       "      <td>0.0</td>\n",
       "      <td>0.0</td>\n",
       "    </tr>\n",
       "    <tr>\n",
       "      <th>Index2</th>\n",
       "      <td>0.0</td>\n",
       "      <td>0.0</td>\n",
       "      <td>0.0</td>\n",
       "    </tr>\n",
       "    <tr>\n",
       "      <th>Index3</th>\n",
       "      <td>0.0</td>\n",
       "      <td>0.0</td>\n",
       "      <td>0.0</td>\n",
       "    </tr>\n",
       "    <tr>\n",
       "      <th>...</th>\n",
       "      <td>...</td>\n",
       "      <td>...</td>\n",
       "      <td>...</td>\n",
       "    </tr>\n",
       "    <tr>\n",
       "      <th>Index13</th>\n",
       "      <td>0.0</td>\n",
       "      <td>0.0</td>\n",
       "      <td>0.0</td>\n",
       "    </tr>\n",
       "    <tr>\n",
       "      <th>Index14</th>\n",
       "      <td>0.0</td>\n",
       "      <td>0.0</td>\n",
       "      <td>0.0</td>\n",
       "    </tr>\n",
       "    <tr>\n",
       "      <th>Index15</th>\n",
       "      <td>0.0</td>\n",
       "      <td>0.0</td>\n",
       "      <td>0.0</td>\n",
       "    </tr>\n",
       "  </tbody>\n",
       "</table>\n",
       "<p>15 rows × 3 columns</p>\n",
       "</div>"
      ],
      "text/plain": [
       "         Column1  Column2  Column3\n",
       "Index1       0.0      0.0      0.0\n",
       "Index2       0.0      0.0      0.0\n",
       "Index3       0.0      0.0      0.0\n",
       "...          ...      ...      ...\n",
       "Index13      0.0      0.0      0.0\n",
       "Index14      0.0      0.0      0.0\n",
       "Index15      0.0      0.0      0.0\n",
       "\n",
       "[15 rows x 3 columns]"
      ]
     },
     "execution_count": 132,
     "metadata": {},
     "output_type": "execute_result"
    }
   ],
   "source": [
    "pd.set_option(\"display.max_rows\", 6)\n",
    "N_ROWS = 15\n",
    "N_COLS = 3\n",
    "numpy_data = np.zeros(shape=(N_ROWS,N_COLS))\n",
    "pd.DataFrame(\n",
    "    data=numpy_data,\n",
    "    index=[f\"Index{i+1}\" for i in range(N_ROWS)],\n",
    "    columns=[f\"Column{i+1}\" for i in range(N_COLS)],\n",
    ")\n"
   ]
  },
  {
   "attachments": {},
   "cell_type": "markdown",
   "metadata": {},
   "source": [
    "# 17. Write a Pandas program to find the row for where the value of a given column is maximum. \n",
    "Input data:\n",
    "```yaml\n",
    "col1: [1, 2, 3, 4, 7]\n",
    "col2: [4, 5, 6, 9, 5]\n",
    "col3: [7, 8, 12, 1, 11]\n",
    "```\n",
    "  \n",
    "Sample output:  \n",
    "```\n",
    "Row where col1 has maximum value: 4\n",
    "Row where col2 has maximum value: 3\n",
    "Row where col3 has maximum value: 2\n",
    "```"
   ]
  },
  {
   "cell_type": "code",
   "execution_count": 138,
   "metadata": {},
   "outputs": [
    {
     "name": "stdout",
     "output_type": "stream",
     "text": [
      "Row where col1 has maximum value: 4\n",
      "Row where col2 has maximum value: 3\n",
      "Row where col3 has maximum value: 2\n"
     ]
    }
   ],
   "source": [
    "max_data = pd.DataFrame(\n",
    "    data={\n",
    "        \"col1\": [1, 2, 3, 4, 7],\n",
    "        \"col2\": [4, 5, 6, 9, 5],\n",
    "        \"col3\": [7, 8, 12, 1, 11],\n",
    "    }\n",
    ")\n",
    "\n",
    "for col in max_data.columns:\n",
    "    max_index = list(max_data[max_data[col] == max_data[col].max()].index)[0]\n",
    "    print(f\"Row where {col} has maximum value: {max_index}\")\n"
   ]
  },
  {
   "attachments": {},
   "cell_type": "markdown",
   "metadata": {},
   "source": [
    "# 18. Write a Pandas program to convert the datatype of a given column (floats to ints).\n",
    "Input data:\n",
    "\n",
    "| | attempts | name | qualify | score |\n",
    "| --- | ---| --- | --- | --- |\n",
    "| 0 | 1 | Anastasia | yes | 12.5 |\n",
    "| 1 | 3 | Dima | no | 9.0 |\n",
    "| 2 | 2 | Katherine | yes | 16.5 |\n",
    "| 3 | 3 | James | no | NaN |\n",
    "| 4 | 2 | Emily | no | 9.0 |\n",
    "| 5 | 3 | Michael | yes | 20.0 |\n",
    "| 6 | 1 | Matthew | yes | 14.5 |\n",
    "| 7 | 1 | Laura | no | NaN |\n",
    "| 8 | 2 | Kevin | no | 8.0 |\n",
    "| 9 | 1 | Jonas | yes | 19.0 |\n",
    "\n",
    "```\n",
    "Data types of the columns of the said DataFrame:\n",
    "attempts int64\n",
    "name object\n",
    "qualify object\n",
    "score float64\n",
    "dtype: object\n",
    "```\n",
    "\n",
    "Now change the Data type of 'score' column from float to int:\n",
    "\n",
    "| | attempts | name | qualify | score |\n",
    "| --- | ---| --- | --- | --- |\n",
    "| 0 | 1 | Anastasia | yes | 12 |\n",
    "| 1 | 3 | Dima | no | 9 |\n",
    "| 2 | 2 | Katherine | yes | 16 |\n",
    "| 3 | 3 | James | no | NaN |\n",
    "| 4 | 2 | Emily | no | 9 |\n",
    "| 5 | 3 | Michael | yes | 20 |\n",
    "| 6 | 1 | Matthew | yes | 14 |\n",
    "| 7 | 1 | Laura | no | NaN |\n",
    "| 8 | 2 | Kevin | no | 8 |\n",
    "| 9 | 1 | Jonas | yes | 19 |\n",
    "\n",
    "```\n",
    "Data types of the columns of the DataFrame now:\n",
    "attempts int64\n",
    "name object\n",
    "qualify object\n",
    "score int64\n",
    "dtype: object\n",
    "```\n",
    "\n",
    "\n",
    "### My remarks\n",
    "since `None` or `np.NaN` values are float in python we cannot just ignore them when casting column type. Therefore we need to replace them with an integer before trying the convertion."
   ]
  },
  {
   "cell_type": "code",
   "execution_count": 154,
   "metadata": {},
   "outputs": [
    {
     "name": "stdout",
     "output_type": "stream",
     "text": [
      "Data types of the columns of the said DataFrame:\n",
      "attempts    object\n",
      "name        object\n",
      "qualify     object\n",
      "score       object\n",
      "dtype: object\n",
      "\n",
      "Data types of the columns of the DataFrame now:\n",
      "attempts    object\n",
      "name        object\n",
      "qualify     object\n",
      "score        int64\n",
      "dtype: object\n"
     ]
    }
   ],
   "source": [
    "converted_data = data.copy(deep=True)[COL_ORDER]\n",
    "print(f\"Data types of the columns of the said DataFrame:\\n{converted_data.dtypes}\")\n",
    "\n",
    "converted_data.score = converted_data.score.fillna(0).astype(np.int64)\n",
    "print(f\"\\nData types of the columns of the DataFrame now:\\n{converted_data.dtypes}\")"
   ]
  },
  {
   "attachments": {},
   "cell_type": "markdown",
   "metadata": {},
   "source": [
    "# 19. Write a Pandas program to convert a given list of lists into a Dataframe. \n",
    "Sample data:  \n",
    "Original list of lists:  \n",
    "`[[2, 4], [1, 3]]`\n",
    "\n",
    "New DataFrame\n",
    "\n",
    "| | col1 | col2 |\n",
    "| --- | --- | --- |\n",
    "| 0 | 2 | 4 |\n",
    "| 1 | 1 | 3 |"
   ]
  },
  {
   "cell_type": "code",
   "execution_count": 155,
   "metadata": {},
   "outputs": [
    {
     "data": {
      "text/html": [
       "<div>\n",
       "<style scoped>\n",
       "    .dataframe tbody tr th:only-of-type {\n",
       "        vertical-align: middle;\n",
       "    }\n",
       "\n",
       "    .dataframe tbody tr th {\n",
       "        vertical-align: top;\n",
       "    }\n",
       "\n",
       "    .dataframe thead th {\n",
       "        text-align: right;\n",
       "    }\n",
       "</style>\n",
       "<table border=\"1\" class=\"dataframe\">\n",
       "  <thead>\n",
       "    <tr style=\"text-align: right;\">\n",
       "      <th></th>\n",
       "      <th>col1</th>\n",
       "      <th>col2</th>\n",
       "    </tr>\n",
       "  </thead>\n",
       "  <tbody>\n",
       "    <tr>\n",
       "      <th>0</th>\n",
       "      <td>2</td>\n",
       "      <td>4</td>\n",
       "    </tr>\n",
       "    <tr>\n",
       "      <th>1</th>\n",
       "      <td>1</td>\n",
       "      <td>3</td>\n",
       "    </tr>\n",
       "  </tbody>\n",
       "</table>\n",
       "</div>"
      ],
      "text/plain": [
       "   col1  col2\n",
       "0     2     4\n",
       "1     1     3"
      ]
     },
     "execution_count": 155,
     "metadata": {},
     "output_type": "execute_result"
    }
   ],
   "source": [
    "list_data = [[2, 4], [1, 3]]\n",
    "list_dataframe = pd.DataFrame(\n",
    "    data = list_data,\n",
    "    columns = [\"col1\", \"col2\"]\n",
    ")\n",
    "list_dataframe"
   ]
  },
  {
   "attachments": {},
   "cell_type": "markdown",
   "metadata": {},
   "source": [
    "# 20. Write a Pandas program to group by the first column and get second column as lists in rows. \n",
    "Sample data:  \n",
    "Original DataFrame\n",
    "\n",
    "| | col1 | col2 |\n",
    "|---|---|---|\n",
    "| 0 | C1 | 1 |\n",
    "| 1 | C1 | 2 |\n",
    "| 2 | C2 | 3 |\n",
    "| 3 | C2 | 3 |\n",
    "| 4 | C2 | 4 |\n",
    "| 5 | C3 | 6 |\n",
    "| 6 | C2 | 5 |\n",
    "\n",
    "Group on the col1:\n",
    "\n",
    "| |col1|\n",
    "|---|---|\n",
    "|C1 |[1, 2]|\n",
    "|C2 |[3, 3, 4, 5]|\n",
    "|C3 |[6]|\n",
    "\n",
    "Name: col2, dtype: object\n"
   ]
  },
  {
   "cell_type": "code",
   "execution_count": 163,
   "metadata": {},
   "outputs": [
    {
     "name": "stdout",
     "output_type": "stream",
     "text": [
      "Original DataFrame:\n",
      "  col1  col2\n",
      "0   C1     1\n",
      "1   C1     2\n",
      "2   C2     3\n",
      "3   C2     3\n",
      "4   C2     4\n",
      "5   C3     6\n",
      "6   C2     5\n",
      "\n",
      "Group on the col1:\n",
      "col1\n",
      "C1          [1, 2]\n",
      "C2    [3, 3, 4, 5]\n",
      "C3             [6]\n",
      "Name: col2, dtype: object\n"
     ]
    }
   ],
   "source": [
    "pd.set_option(\"display.max_rows\", 7)\n",
    "group_data = pd.DataFrame(\n",
    "    data={\n",
    "        \"col1\": [f\"C{x}\" for x in [1, 1, 2, 2, 2, 3, 2]],\n",
    "        \"col2\": [1, 2, 3, 3, 4, 6, 5]\n",
    "    }\n",
    ")\n",
    "\n",
    "print(\"Original DataFrame:\")\n",
    "print(group_data)\n",
    "\n",
    "print(\"\\nGroup on the col1:\")\n",
    "print(\n",
    "    group_data\\\n",
    "        .groupby(\"col1\")[\"col2\"]\\\n",
    "        .apply(list)\n",
    ")"
   ]
  }
 ],
 "metadata": {
  "kernelspec": {
   "display_name": "Python 3.11.0 ('python_test')",
   "language": "python",
   "name": "python3"
  },
  "language_info": {
   "codemirror_mode": {
    "name": "ipython",
    "version": 3
   },
   "file_extension": ".py",
   "mimetype": "text/x-python",
   "name": "python",
   "nbconvert_exporter": "python",
   "pygments_lexer": "ipython3",
   "version": "3.11.0"
  },
  "orig_nbformat": 4,
  "vscode": {
   "interpreter": {
    "hash": "e8f4c321d754e318e6a8f47da7d5d482465ff22592eb500e4e1b4c67bc6cd487"
   }
  }
 },
 "nbformat": 4,
 "nbformat_minor": 2
}
